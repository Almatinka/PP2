{
 "cells": [
  {
   "cell_type": "code",
   "execution_count": 1,
   "id": "0801d5f9-b247-4719-96a9-b16693099ea1",
   "metadata": {},
   "outputs": [
    {
     "name": "stdin",
     "output_type": "stream",
     "text": [
      "Enter a string:  hello world\n"
     ]
    },
    {
     "name": "stdout",
     "output_type": "stream",
     "text": [
      "HELLO WORLD\n"
     ]
    }
   ],
   "source": [
    "class MyClass:\n",
    "    def __init__(self):\n",
    "        self.string = \"\"\n",
    "\n",
    "    def getString(self):\n",
    "        self.string = input(\"Enter a string: \")\n",
    "\n",
    "    def printString(self):\n",
    "        print(self.string.upper())\n",
    "\n",
    "# Example usage:\n",
    "obj = MyClass()\n",
    "obj.getString()\n",
    "obj.printString()\n"
   ]
  },
  {
   "cell_type": "code",
   "execution_count": 3,
   "id": "36932206-16f5-496f-adc8-0a9e4fdb2057",
   "metadata": {},
   "outputs": [
    {
     "name": "stdout",
     "output_type": "stream",
     "text": [
      "25\n"
     ]
    }
   ],
   "source": [
    "class Shape:\n",
    "    def __init__(self):\n",
    "        pass\n",
    "\n",
    "    def area(self):\n",
    "        return 0\n",
    "\n",
    "class Square(Shape):\n",
    "    def __init__(self, length):\n",
    "        self.length = length\n",
    "\n",
    "    def area(self):\n",
    "        return self.length ** 2\n",
    "\n",
    "# Example usage:\n",
    "square = Square(5)\n",
    "print(square.area())  # Output: 25\n"
   ]
  },
  {
   "cell_type": "code",
   "execution_count": 5,
   "id": "fb5ef72c-2336-4f58-af70-2ef0426bab77",
   "metadata": {},
   "outputs": [
    {
     "name": "stdout",
     "output_type": "stream",
     "text": [
      "20\n"
     ]
    }
   ],
   "source": [
    "class Rectangle(Shape):\n",
    "    def __init__(self, length, width):\n",
    "        self.length = length\n",
    "        self.width = width\n",
    "\n",
    "    def area(self):\n",
    "        return self.length * self.width\n",
    "\n",
    "# Example usage:\n",
    "rect = Rectangle(4, 5)\n",
    "print(rect.area())  # Output: 20\n"
   ]
  },
  {
   "cell_type": "code",
   "execution_count": 7,
   "id": "d2c944be-3c35-473d-a674-69b2cba7adeb",
   "metadata": {},
   "outputs": [
    {
     "name": "stdout",
     "output_type": "stream",
     "text": [
      "Point(0, 0)\n",
      "Point(3, 4)\n",
      "5.0\n"
     ]
    }
   ],
   "source": [
    "import math\n",
    "\n",
    "class Point:\n",
    "    def __init__(self, x=0, y=0):\n",
    "        self.x = x\n",
    "        self.y = y\n",
    "\n",
    "    def show(self):\n",
    "        print(f\"Point({self.x}, {self.y})\")\n",
    "\n",
    "    def move(self, x, y):\n",
    "        self.x = x\n",
    "        self.y = y\n",
    "\n",
    "    def dist(self, other):\n",
    "        return math.sqrt((self.x - other.x) ** 2 + (self.y - other.y) ** 2)\n",
    "\n",
    "# Example usage:\n",
    "p1 = Point(0, 0)\n",
    "p2 = Point(3, 4)\n",
    "p1.show()  # Output: Point(0, 0)\n",
    "p2.show()  # Output: Point(3, 4)\n",
    "print(p1.dist(p2))  # Output: 5.0\n"
   ]
  },
  {
   "cell_type": "code",
   "execution_count": 9,
   "id": "7aae7fd1-ae92-4d64-9562-9ab4dd2f5bfc",
   "metadata": {},
   "outputs": [
    {
     "name": "stdout",
     "output_type": "stream",
     "text": [
      "Deposited: 50. New balance: 150\n",
      "Withdrawn: 30. New balance: 120\n",
      "Insufficient funds!\n"
     ]
    }
   ],
   "source": [
    "class Account:\n",
    "    def __init__(self, owner, balance=0):\n",
    "        self.owner = owner\n",
    "        self.balance = balance\n",
    "\n",
    "    def deposit(self, amount):\n",
    "        self.balance += amount\n",
    "        print(f\"Deposited: {amount}. New balance: {self.balance}\")\n",
    "\n",
    "    def withdraw(self, amount):\n",
    "        if amount > self.balance:\n",
    "            print(\"Insufficient funds!\")\n",
    "        else:\n",
    "            self.balance -= amount\n",
    "            print(f\"Withdrawn: {amount}. New balance: {self.balance}\")\n",
    "\n",
    "# Example usage:\n",
    "acc = Account(\"John\", 100)\n",
    "acc.deposit(50)\n",
    "acc.withdraw(30)\n",
    "acc.withdraw(150)\n"
   ]
  },
  {
   "cell_type": "code",
   "execution_count": 11,
   "id": "d43cda1f-8f05-4292-beaf-a9e32ab1b83b",
   "metadata": {},
   "outputs": [
    {
     "name": "stdout",
     "output_type": "stream",
     "text": [
      "[2, 3, 5, 7]\n"
     ]
    }
   ],
   "source": [
    "def is_prime(num):\n",
    "    if num < 2:\n",
    "        return False\n",
    "    for i in range(2, int(num ** 0.5) + 1):\n",
    "        if num % i == 0:\n",
    "            return False\n",
    "    return True\n",
    "\n",
    "nums = [2, 3, 4, 5, 6, 7, 8, 9, 10]\n",
    "primes = list(filter(lambda x: is_prime(x), nums))\n",
    "print(primes)  # Output: [2, 3, 5, 7]\n"
   ]
  },
  {
   "cell_type": "code",
   "execution_count": null,
   "id": "0227e242-d7bf-4c08-b959-ba744f0c22aa",
   "metadata": {},
   "outputs": [],
   "source": []
  }
 ],
 "metadata": {
  "kernelspec": {
   "display_name": "Python [conda env:base] *",
   "language": "python",
   "name": "conda-base-py"
  },
  "language_info": {
   "codemirror_mode": {
    "name": "ipython",
    "version": 3
   },
   "file_extension": ".py",
   "mimetype": "text/x-python",
   "name": "python",
   "nbconvert_exporter": "python",
   "pygments_lexer": "ipython3",
   "version": "3.12.7"
  }
 },
 "nbformat": 4,
 "nbformat_minor": 5
}
