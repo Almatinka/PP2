{
 "cells": [
  {
   "cell_type": "code",
   "execution_count": 2,
   "id": "a16f8b74-b709-484d-b800-b263caa0a6ec",
   "metadata": {},
   "outputs": [
    {
     "name": "stdout",
     "output_type": "stream",
     "text": [
      "abbb\n",
      "a\n",
      "aaab\n",
      "bbb\n"
     ]
    }
   ],
   "source": [
    "import re\n",
    "\n",
    "pattern = r'a*b*'\n",
    "test_strings = ['abbb', 'ac', 'a', 'aaab', 'bbb']\n",
    "\n",
    "for s in test_strings:\n",
    "    if re.fullmatch(pattern, s):\n",
    "        print(s)\n"
   ]
  },
  {
   "cell_type": "raw",
   "id": "41fdeb19-20ae-4d1c-972d-eab552e3d862",
   "metadata": {},
   "source": [
    "1. Найти строки, содержащие 'a', за которыми следуют 0 или более 'b'\n",
    "2. Разбор шаблона:\n",
    "\n",
    "a* — 0 или больше букв 'a'\n",
    "b* — 0 или больше букв 'b'\n"
   ]
  },
  {
   "cell_type": "code",
   "execution_count": 5,
   "id": "4359e902-fe29-446f-9403-cdd2e5c515ae",
   "metadata": {},
   "outputs": [
    {
     "name": "stdout",
     "output_type": "stream",
     "text": [
      "abb\n",
      "abbb\n"
     ]
    }
   ],
   "source": [
    "import re\n",
    "\n",
    "pattern = r'ab{2,3}'\n",
    "test_strings = ['abb', 'abbb', 'abbbb', 'a', 'b']\n",
    "\n",
    "for s in test_strings:\n",
    "    if re.fullmatch(pattern, s):\n",
    "        print(s)\n"
   ]
  },
  {
   "cell_type": "raw",
   "id": "83f2e1ba-65fc-4632-b216-7b248325a31a",
   "metadata": {},
   "source": [
    ". Найти строки, содержащие 'a', за которыми следуют от 2 до 3 'b'\n",
    "Пример строки:\n",
    "abb\n",
    "abbb\n",
    "abbbb ❌ (не должно быть больше 3 'b')\n",
    "\n",
    "Разбор шаблона:\n",
    "\n",
    "a — обязательно 'a'\n",
    "b{2,3} — 2 или 3 буквы 'b'\n"
   ]
  },
  {
   "cell_type": "raw",
   "id": "e9da33a9-7ed4-44f6-bbdc-0a85a074dce3",
   "metadata": {},
   "source": [
    "3. Найти последовательности маленьких букв, соединенных _ (подчеркиванием)\n",
    "Пример строки:\n",
    "hello_world\n",
    "python_programming\n",
    "HELLO_WORLD ❌ (заглавные буквы не подходят)"
   ]
  },
  {
   "cell_type": "code",
   "execution_count": 7,
   "id": "a4240019-cd47-4140-a043-003d3a9f5b48",
   "metadata": {},
   "outputs": [
    {
     "name": "stdout",
     "output_type": "stream",
     "text": [
      "hello_world\n",
      "python_programming\n",
      "snake_case\n"
     ]
    }
   ],
   "source": [
    "import re\n",
    "\n",
    "pattern = r'[a-z]+_[a-z]+'\n",
    "test_strings = ['hello_world', 'python_programming', 'HELLO_WORLD', 'snake_case']\n",
    "\n",
    "for s in test_strings:\n",
    "    if re.fullmatch(pattern, s):\n",
    "        print(s)"
   ]
  },
  {
   "cell_type": "raw",
   "id": "f52e2b3d-d26d-4bdc-95bf-17e9e245911d",
   "metadata": {},
   "source": [
    "Разбор шаблона:\n",
    "\n",
    "[a-z]+ — одна или несколько маленьких букв\n",
    "_ — символ подчеркивания\n",
    "[a-z]+ — снова одна или несколько маленьких букв"
   ]
  },
  {
   "cell_type": "raw",
   "id": "06aa3fdf-0ebb-4d3b-af04-09997bf8527a",
   "metadata": {},
   "source": [
    "4. Найти слова, начинающиеся с заглавной буквы и продолжающиеся строчными\n",
    "Пример строки:\n",
    "Hello\n",
    "World\n",
    "hello ❌ (не начинается с заглавной)\n",
    "HELLO ❌ (все буквы заглавные)"
   ]
  },
  {
   "cell_type": "code",
   "execution_count": 9,
   "id": "2ac6210f-b70d-4c66-8783-d3bd97c60673",
   "metadata": {},
   "outputs": [
    {
     "name": "stdout",
     "output_type": "stream",
     "text": [
      "Hello\n",
      "World\n"
     ]
    }
   ],
   "source": [
    "import re\n",
    "\n",
    "pattern = r'[A-Z][a-z]+'\n",
    "test_strings = ['Hello', 'World', 'hello', 'HELLO']\n",
    "\n",
    "for s in test_strings:\n",
    "    if re.fullmatch(pattern, s):\n",
    "        print(s)\n"
   ]
  },
  {
   "cell_type": "raw",
   "id": "5ec3fc7a-2327-4685-ac57-7e772fd77a2b",
   "metadata": {},
   "source": [
    "Разбор шаблона:\n",
    "\n",
    "[A-Z] — первая буква заглавная\n",
    "[a-z]+ — одна или больше маленьких букв\n"
   ]
  },
  {
   "cell_type": "raw",
   "id": "dd06c6bc-8228-4d59-bf63-0a28ac83bb46",
   "metadata": {},
   "source": [
    "5. Найти строки, содержащие 'a', за которыми идут любые символы и оканчивающиеся на 'b'\n",
    "Пример строки:\n",
    "a123b\n",
    "axb\n",
    "aXYZb\n",
    "ab\n",
    "acb"
   ]
  },
  {
   "cell_type": "code",
   "execution_count": 13,
   "id": "3aea0ef4-26a8-4f21-bbe8-95a68a55d207",
   "metadata": {},
   "outputs": [
    {
     "name": "stdout",
     "output_type": "stream",
     "text": [
      "a123b\n",
      "axb\n",
      "aXYZb\n",
      "ab\n",
      "acb\n"
     ]
    }
   ],
   "source": [
    "import re\n",
    "\n",
    "pattern = r'a.*b'\n",
    "test_strings = ['a123b', 'axb', 'aXYZb', 'ab', 'acb', 'ac']\n",
    "\n",
    "for s in test_strings:\n",
    "    if re.fullmatch(pattern, s):\n",
    "        print(s)\n"
   ]
  },
  {
   "cell_type": "raw",
   "id": "de0589ce-e91e-4b2c-8a55-5cc3ee7c5f69",
   "metadata": {},
   "source": [
    "Разбор шаблона:\n",
    "\n",
    "a — обязательно 'a'\n",
    ".* — любые символы (0 или больше)\n",
    "b — обязательно 'b'"
   ]
  },
  {
   "cell_type": "raw",
   "id": "8728c5b5-96df-449c-b7d5-107cb864d973",
   "metadata": {},
   "source": [
    "6. Заменить пробелы, запятые и точки на двоеточие\n",
    "Пример строки:\n",
    "Hello, world. How are you?\n",
    "Вывод: Hello:world:How:are:you?"
   ]
  },
  {
   "cell_type": "code",
   "execution_count": 17,
   "id": "6a640faf-f402-4fb2-b716-048ca772311c",
   "metadata": {},
   "outputs": [
    {
     "name": "stdout",
     "output_type": "stream",
     "text": [
      "Hello::world::How:are:you?\n"
     ]
    }
   ],
   "source": [
    "import re\n",
    "\n",
    "text = \"Hello, world. How are you?\"\n",
    "result = re.sub(r'[ ,.]', ':', text)\n",
    "\n",
    "print(result)\n"
   ]
  },
  {
   "cell_type": "raw",
   "id": "bef98432-b163-4a13-ad2d-0437ebabed04",
   "metadata": {},
   "source": [
    "Разбор шаблона:\n",
    "\n",
    "[ ,.] — любой пробел, запятая или точка\n",
    "re.sub(pattern, замена, текст) — заменить найденное на :"
   ]
  },
  {
   "cell_type": "raw",
   "id": "d0df80b5-3cf6-4e48-bfee-c2cf34294953",
   "metadata": {},
   "source": [
    "7. Конвертировать snake_case в CamelCase\n",
    "Пример строки:\n",
    "hello_world → HelloWorld\n",
    "python_programming → PythonProgramming"
   ]
  },
  {
   "cell_type": "code",
   "execution_count": 23,
   "id": "b6a3f662-d792-4b86-abf8-1209b9141305",
   "metadata": {},
   "outputs": [
    {
     "name": "stdout",
     "output_type": "stream",
     "text": [
      "HelloWorld\n",
      "PythonProgramming\n"
     ]
    }
   ],
   "source": [
    "import re\n",
    "\n",
    "def snake_to_camel(s):\n",
    "    return ''.join(word.capitalize() for word in s.split('_'))\n",
    "\n",
    "print(snake_to_camel('hello_world'))\n",
    "print(snake_to_camel('python_programming'))\n"
   ]
  },
  {
   "cell_type": "raw",
   "id": "9487b7dc-e1a9-4146-9cfd-2de37d8e60bb",
   "metadata": {},
   "source": [
    "Разбор кода:\n",
    "\n",
    ".split('_') — разделить строку по _\n",
    ".capitalize() — делает первую букву заглавной\n",
    "''.join(...) — объединяем слова без пробелов"
   ]
  },
  {
   "cell_type": "raw",
   "id": "18dddf73-775c-4bad-9b95-2ebb931ebaed",
   "metadata": {},
   "source": [
    "8. Разделить строку по заглавным буквам\n",
    "Пример строки:\n",
    "HelloWorld → Hello World\n",
    "PythonProgrammingLanguage → Python Programming Language"
   ]
  },
  {
   "cell_type": "code",
   "execution_count": 25,
   "id": "1e8b5895-4bd2-4df6-b77f-6e5865b8254b",
   "metadata": {},
   "outputs": [
    {
     "name": "stdout",
     "output_type": "stream",
     "text": [
      "Hello World\n",
      "Python Programming Language\n"
     ]
    }
   ],
   "source": [
    "import re\n",
    "\n",
    "def split_on_upper(s):\n",
    "    return ' '.join(re.findall('[A-Z][a-z]*', s))\n",
    "\n",
    "print(split_on_upper('HelloWorld'))\n",
    "print(split_on_upper('PythonProgrammingLanguage'))\n"
   ]
  },
  {
   "cell_type": "raw",
   "id": "19684d57-1eff-49c7-8cc5-bf959d55d3b6",
   "metadata": {},
   "source": [
    "Разбор шаблона:\n",
    "\n",
    "[A-Z][a-z]* — заглавная буква + строчные буквы после нее\n"
   ]
  },
  {
   "cell_type": "raw",
   "id": "518cbe66-85b3-464a-ba7d-429ad8f31e46",
   "metadata": {},
   "source": [
    "9. Вставить пробелы перед заглавными буквами\n",
    "Пример строки:\n",
    "HelloWorld → Hello World\n",
    "PythonProgramming → Python Programming"
   ]
  },
  {
   "cell_type": "code",
   "execution_count": 27,
   "id": "ed12c613-7873-4f38-aaa8-6fad1ce2ed6b",
   "metadata": {},
   "outputs": [
    {
     "name": "stdout",
     "output_type": "stream",
     "text": [
      "Hello World Python Programming\n"
     ]
    }
   ],
   "source": [
    "import re\n",
    "\n",
    "text = \"HelloWorld PythonProgramming\"\n",
    "result = re.sub(r'([a-z])([A-Z])', r'\\1 \\2', text)\n",
    "\n",
    "print(result)\n"
   ]
  },
  {
   "cell_type": "raw",
   "id": "31191825-4b90-4e6e-8d1b-b0155432fcca",
   "metadata": {},
   "source": [
    "Разбор кода:\n",
    "\n",
    "([a-z])([A-Z]) — группа, где маленькая буква перед заглавной\n",
    "\\1 \\2 — вставляем пробел между ними\n"
   ]
  },
  {
   "cell_type": "raw",
   "id": "2e81fef9-80ba-4274-9492-6c599711beab",
   "metadata": {},
   "source": [
    "10. Конвертировать CamelCase в snake_case\n",
    "Пример строки:\n",
    "HelloWorld → hello_world\n",
    "PythonProgramming → python_programming"
   ]
  },
  {
   "cell_type": "code",
   "execution_count": 31,
   "id": "f2fc7fc1-09e1-4e0e-9bbc-f6e30b848b54",
   "metadata": {},
   "outputs": [
    {
     "name": "stdout",
     "output_type": "stream",
     "text": [
      "hello_world\n",
      "python_programming\n"
     ]
    }
   ],
   "source": [
    "import re\n",
    "\n",
    "def camel_to_snake(s):\n",
    "    return re.sub(r'([a-z])([A-Z])', r'\\1_\\2', s).lower()\n",
    "\n",
    "print(camel_to_snake('HelloWorld'))\n",
    "print(camel_to_snake('PythonProgramming'))\n"
   ]
  },
  {
   "cell_type": "raw",
   "id": "9ba45b4f-194b-4abd-a6a1-1bce23016fd2",
   "metadata": {},
   "source": [
    "Разбор кода:\n",
    "\n",
    "([a-z])([A-Z]) — находим маленькую букву перед заглавной\n",
    "\\1_\\2 — добавляем _\n",
    ".lower() — приводим к нижнему регистру\n"
   ]
  },
  {
   "cell_type": "code",
   "execution_count": null,
   "id": "a3eb2da7-6d48-4e1c-89e4-a3967bbaccef",
   "metadata": {},
   "outputs": [],
   "source": []
  }
 ],
 "metadata": {
  "kernelspec": {
   "display_name": "Python [conda env:base] *",
   "language": "python",
   "name": "conda-base-py"
  },
  "language_info": {
   "codemirror_mode": {
    "name": "ipython",
    "version": 3
   },
   "file_extension": ".py",
   "mimetype": "text/x-python",
   "name": "python",
   "nbconvert_exporter": "python",
   "pygments_lexer": "ipython3",
   "version": "3.12.7"
  }
 },
 "nbformat": 4,
 "nbformat_minor": 5
}
