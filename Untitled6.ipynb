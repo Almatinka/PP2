{
 "cells": [
  {
   "cell_type": "raw",
   "id": "745fda95-1392-4013-ae92-1a40fe0ad41e",
   "metadata": {},
   "source": [
    "Часть 1: Работа с директориями и файлами"
   ]
  },
  {
   "cell_type": "markdown",
   "id": "503d12af-68d4-45cd-87b0-09c12fa13da7",
   "metadata": {},
   "source": [
    "1. Вывести только директории, файлы и все файлы и директории в указанном пути"
   ]
  },
  {
   "cell_type": "code",
   "execution_count": 19,
   "id": "2359a2c7-9bf4-419e-b3ab-742c2be86d0d",
   "metadata": {},
   "outputs": [
    {
     "name": "stdout",
     "output_type": "stream",
     "text": [
      "Directories: ['.anaconda', '.cache', '.conda', '.continuum', '.ipynb_checkpoints', '.ipython', '.jupyter', '.matplotlib', '.ms-ad', '.vscode', '3D Objects', 'anaconda3', 'anaconda_projects', 'AppData', 'Apple', 'Application Data', 'Contacts', 'Cookies', 'Documents', 'Downloads', 'Evernote', 'Favorites', 'IntelGraphicsProfiles', 'lab4', 'Links', 'Local Settings', 'Microsoft', 'MicrosoftEdgeBackups', 'Music', 'NetHood', 'OneDrive', 'PP2', 'PrintHood', 'programming-principles-2_Lab4_json_sample-data.json at main · Beisenbek_programming-principles-2 · GitHub_files.8323ba4e-cbb5-420b-b039-cf2c080718ec', 'Recent', 'Saved Games', 'Searches', 'SendTo', 'Tracing', 'Videos', 'Zomboid', 'главное меню', 'Мои документы', 'Новая папка', 'Новая папка (2)', 'Шаблоны']\n",
      "Files: ['.condarc', 'amplitude_frequency_response.png', 'impedance_vs_frequency.png', 'lab2.ipynb', 'lab3.ipynb', 'lab4.ipynb', 'Lab5.ipynb', 'NTUSER.DAT', 'ntuser.dat.LOG1', 'ntuser.dat.LOG2', 'NTUSER.DAT{a2cbca4b-bb77-11ed-b34c-9c48069f9bec}.TM.blf', 'NTUSER.DAT{a2cbca4b-bb77-11ed-b34c-9c48069f9bec}.TMContainer00000000000000000001.regtrans-ms', 'NTUSER.DAT{a2cbca4b-bb77-11ed-b34c-9c48069f9bec}.TMContainer00000000000000000002.regtrans-ms', 'ntuser.ini', 'output.txt', 'phase_frequency_response.png', 'sample-data (1).json', 'Untitled.ipynb', 'untitled.txt', 'Untitled1.ipynb', 'Untitled2.ipynb', 'Untitled3.ipynb', 'Untitled4.ipynb', 'Untitled5.ipynb', 'Untitled6.ipynb']\n",
      "All items: ['.anaconda', '.cache', '.conda', '.condarc', '.continuum', '.ipynb_checkpoints', '.ipython', '.jupyter', '.matplotlib', '.ms-ad', '.vscode', '3D Objects', 'amplitude_frequency_response.png', 'anaconda3', 'anaconda_projects', 'AppData', 'Apple', 'Application Data', 'Contacts', 'Cookies', 'Documents', 'Downloads', 'Evernote', 'Favorites', 'impedance_vs_frequency.png', 'IntelGraphicsProfiles', 'lab2.ipynb', 'lab3.ipynb', 'lab4', 'lab4.ipynb', 'Lab5.ipynb', 'Links', 'Local Settings', 'Microsoft', 'MicrosoftEdgeBackups', 'Music', 'NetHood', 'NTUSER.DAT', 'ntuser.dat.LOG1', 'ntuser.dat.LOG2', 'NTUSER.DAT{a2cbca4b-bb77-11ed-b34c-9c48069f9bec}.TM.blf', 'NTUSER.DAT{a2cbca4b-bb77-11ed-b34c-9c48069f9bec}.TMContainer00000000000000000001.regtrans-ms', 'NTUSER.DAT{a2cbca4b-bb77-11ed-b34c-9c48069f9bec}.TMContainer00000000000000000002.regtrans-ms', 'ntuser.ini', 'OneDrive', 'output.txt', 'phase_frequency_response.png', 'PP2', 'PrintHood', 'programming-principles-2_Lab4_json_sample-data.json at main · Beisenbek_programming-principles-2 · GitHub_files.8323ba4e-cbb5-420b-b039-cf2c080718ec', 'Recent', 'sample-data (1).json', 'Saved Games', 'Searches', 'SendTo', 'Tracing', 'Untitled.ipynb', 'untitled.txt', 'Untitled1.ipynb', 'Untitled2.ipynb', 'Untitled3.ipynb', 'Untitled4.ipynb', 'Untitled5.ipynb', 'Untitled6.ipynb', 'Videos', 'Zomboid', 'главное меню', 'Мои документы', 'Новая папка', 'Новая папка (2)', 'Шаблоны']\n"
     ]
    }
   ],
   "source": [
    "import os\n",
    "\n",
    "path = \".\"\n",
    "\n",
    "print(\"Directories:\", [d for d in os.listdir(path) if os.path.isdir(d)])\n",
    "print(\"Files:\", [f for f in os.listdir(path) if os.path.isfile(f)])\n",
    "print(\"All items:\", os.listdir(path))\n",
    "\n"
   ]
  },
  {
   "cell_type": "raw",
   "id": "636c3988-1a9b-4562-a786-7ed7fc4068f4",
   "metadata": {},
   "source": [
    "Объяснение:\n",
    "\n",
    "Получаем список всех элементов в указанной папке.\n",
    "Фильтруем элементы, определяя, являются ли они директориями или файлами.\n",
    "Выводим списки директорий, файлов и всех элементов."
   ]
  },
  {
   "cell_type": "markdown",
   "id": "8b760645-4bab-4c87-9a8b-efde0823d5a8",
   "metadata": {},
   "source": [
    "2. Проверить доступ к указанному пути (существование, чтение, запись, выполнение)"
   ]
  },
  {
   "cell_type": "code",
   "execution_count": 8,
   "id": "7e14a575-a37e-4b9d-a268-7942c303a561",
   "metadata": {},
   "outputs": [
    {
     "name": "stdout",
     "output_type": "stream",
     "text": [
      "Path 'test_folder' does not exist.\n"
     ]
    }
   ],
   "source": [
    "import os\n",
    "\n",
    "path = \"test_folder\"  \n",
    "\n",
    "if os.path.exists(path):\n",
    "    print(f\"Path '{path}' exists.\")\n",
    "    print(\"Readable:\", os.access(path, os.R_OK))\n",
    "    print(\"Writable:\", os.access(path, os.W_OK))\n",
    "    print(\"Executable:\", os.access(path, os.X_OK))\n",
    "else:\n",
    "    print(f\"Path '{path}' does not exist.\")\n"
   ]
  },
  {
   "cell_type": "raw",
   "id": "6874bcbf-a61c-4917-8275-a0124e5664cb",
   "metadata": {},
   "source": [
    "Объяснение:\n",
    "\n",
    "Проверяем существование пути.\n",
    "Анализируем доступ: чтение, запись, выполнение.\n"
   ]
  },
  {
   "cell_type": "markdown",
   "id": "8f3eda94-fb1f-4eeb-8460-195cc3f1c602",
   "metadata": {},
   "source": [
    "3. Проверить, существует ли путь, и определить имя файла и директорию"
   ]
  },
  {
   "cell_type": "code",
   "execution_count": 11,
   "id": "af8cd5dd-b85c-424b-8f94-b92277053468",
   "metadata": {},
   "outputs": [
    {
     "name": "stdout",
     "output_type": "stream",
     "text": [
      "File does not exist.\n"
     ]
    }
   ],
   "source": [
    "import os\n",
    "\n",
    "path = \"example_folder/sample.txt\"  \n",
    "\n",
    "if os.path.exists(path):\n",
    "    print(\"File exists!\")\n",
    "    print(\"Directory:\", os.path.dirname(path))\n",
    "    print(\"Filename:\", os.path.basename(path))\n",
    "else:\n",
    "    print(\"File does not exist.\")\n"
   ]
  },
  {
   "cell_type": "raw",
   "id": "125776d4-f4ce-4a01-86f4-659b507610eb",
   "metadata": {},
   "source": [
    "Объяснение:\n",
    "\n",
    "Проверяем существование пути.\n",
    "Разделяем путь на директорию и имя файла."
   ]
  },
  {
   "cell_type": "markdown",
   "id": "f23bb70f-3de8-4f21-b90d-4a7a88c5f8e5",
   "metadata": {},
   "source": [
    "4. Подсчитать количество строк в текстовом файле"
   ]
  },
  {
   "cell_type": "code",
   "execution_count": 21,
   "id": "6e1d1ccf-69ef-4c0e-b7fe-b6ab45ff756e",
   "metadata": {},
   "outputs": [
    {
     "ename": "FileNotFoundError",
     "evalue": "[Errno 2] No such file or directory: 'text.txt'",
     "output_type": "error",
     "traceback": [
      "\u001b[1;31m---------------------------------------------------------------------------\u001b[0m",
      "\u001b[1;31mFileNotFoundError\u001b[0m                         Traceback (most recent call last)",
      "Cell \u001b[1;32mIn[21], line 3\u001b[0m\n\u001b[0;32m      1\u001b[0m file \u001b[38;5;241m=\u001b[39m \u001b[38;5;124m\"\u001b[39m\u001b[38;5;124mtext.txt\u001b[39m\u001b[38;5;124m\"\u001b[39m\n\u001b[1;32m----> 3\u001b[0m \u001b[38;5;28;01mwith\u001b[39;00m \u001b[38;5;28mopen\u001b[39m(file, \u001b[38;5;124m\"\u001b[39m\u001b[38;5;124mr\u001b[39m\u001b[38;5;124m\"\u001b[39m) \u001b[38;5;28;01mas\u001b[39;00m f:\n\u001b[0;32m      4\u001b[0m     \u001b[38;5;28mprint\u001b[39m(\u001b[38;5;124m\"\u001b[39m\u001b[38;5;124mLines:\u001b[39m\u001b[38;5;124m\"\u001b[39m, \u001b[38;5;28mlen\u001b[39m(f\u001b[38;5;241m.\u001b[39mreadlines()))\n",
      "File \u001b[1;32m~\\anaconda3\\Lib\\site-packages\\IPython\\core\\interactiveshell.py:324\u001b[0m, in \u001b[0;36m_modified_open\u001b[1;34m(file, *args, **kwargs)\u001b[0m\n\u001b[0;32m    317\u001b[0m \u001b[38;5;28;01mif\u001b[39;00m file \u001b[38;5;129;01min\u001b[39;00m {\u001b[38;5;241m0\u001b[39m, \u001b[38;5;241m1\u001b[39m, \u001b[38;5;241m2\u001b[39m}:\n\u001b[0;32m    318\u001b[0m     \u001b[38;5;28;01mraise\u001b[39;00m \u001b[38;5;167;01mValueError\u001b[39;00m(\n\u001b[0;32m    319\u001b[0m         \u001b[38;5;124mf\u001b[39m\u001b[38;5;124m\"\u001b[39m\u001b[38;5;124mIPython won\u001b[39m\u001b[38;5;124m'\u001b[39m\u001b[38;5;124mt let you open fd=\u001b[39m\u001b[38;5;132;01m{\u001b[39;00mfile\u001b[38;5;132;01m}\u001b[39;00m\u001b[38;5;124m by default \u001b[39m\u001b[38;5;124m\"\u001b[39m\n\u001b[0;32m    320\u001b[0m         \u001b[38;5;124m\"\u001b[39m\u001b[38;5;124mas it is likely to crash IPython. If you know what you are doing, \u001b[39m\u001b[38;5;124m\"\u001b[39m\n\u001b[0;32m    321\u001b[0m         \u001b[38;5;124m\"\u001b[39m\u001b[38;5;124myou can use builtins\u001b[39m\u001b[38;5;124m'\u001b[39m\u001b[38;5;124m open.\u001b[39m\u001b[38;5;124m\"\u001b[39m\n\u001b[0;32m    322\u001b[0m     )\n\u001b[1;32m--> 324\u001b[0m \u001b[38;5;28;01mreturn\u001b[39;00m io_open(file, \u001b[38;5;241m*\u001b[39margs, \u001b[38;5;241m*\u001b[39m\u001b[38;5;241m*\u001b[39mkwargs)\n",
      "\u001b[1;31mFileNotFoundError\u001b[0m: [Errno 2] No such file or directory: 'text.txt'"
     ]
    }
   ],
   "source": [
    "file = \"text.txt\"\n",
    "\n",
    "with open(file, \"r\") as f:\n",
    "    print(\"Lines:\", len(f.readlines()))\n",
    "\n"
   ]
  },
  {
   "cell_type": "raw",
   "id": "f4b7244f-a28f-420f-8b06-e15a36e93a6c",
   "metadata": {},
   "source": [
    "Объяснение:\n",
    "\n",
    "Открываем файл в режиме чтения.\n",
    "Читаем строки и считаем их количество."
   ]
  },
  {
   "cell_type": "markdown",
   "id": "fcdc1671-d5da-4da0-b9a1-07805d4815b1",
   "metadata": {},
   "source": [
    "5. Записать список в файл"
   ]
  },
  {
   "cell_type": "code",
   "execution_count": 23,
   "id": "c2c98f30-a2c8-418d-8fd4-bef966dd7dfc",
   "metadata": {},
   "outputs": [],
   "source": [
    "data = [\"Python\", \"Lab 6\", \"Files\"]\n",
    "\n",
    "with open(\"output.txt\", \"w\") as f:\n",
    "    f.writelines(line + \"\\n\" for line in data)\n",
    "\n"
   ]
  },
  {
   "cell_type": "raw",
   "id": "9aa10367-dbbc-4def-82b7-049cd6dc12df",
   "metadata": {},
   "source": [
    "Объяснение:\n",
    "\n",
    "Создаем список данных.\n",
    "Открываем файл в режиме записи и записываем строки."
   ]
  },
  {
   "cell_type": "markdown",
   "id": "bdaa8d45-defa-4481-af36-e1c1991daf99",
   "metadata": {},
   "source": [
    "6. Создать 26 файлов от A.txt до Z.txt"
   ]
  },
  {
   "cell_type": "code",
   "execution_count": 26,
   "id": "ac4b6d1d-875e-4f8c-9f9b-2fc7c36bdb36",
   "metadata": {},
   "outputs": [],
   "source": [
    "for c in \"ABCDEFGHIJKLMNOPQRSTUVWXYZ\":\n",
    "    open(f\"{c}.txt\", \"w\").close()\n"
   ]
  },
  {
   "cell_type": "raw",
   "id": "f7106cab-cef6-4100-982a-8a97daa2cb0b",
   "metadata": {},
   "source": [
    "Создает 26 файлов от A.txt до Z.txt."
   ]
  },
  {
   "cell_type": "markdown",
   "id": "7b652a38-2157-4f9e-9103-c9adfc55b9c6",
   "metadata": {},
   "source": [
    "7. Копировать файл"
   ]
  },
  {
   "cell_type": "code",
   "execution_count": 30,
   "id": "8db10b0c-bed0-4c26-aa61-bc53c188e2fa",
   "metadata": {},
   "outputs": [
    {
     "ename": "FileNotFoundError",
     "evalue": "[Errno 2] No such file or directory: 'source.txt'",
     "output_type": "error",
     "traceback": [
      "\u001b[1;31m---------------------------------------------------------------------------\u001b[0m",
      "\u001b[1;31mFileNotFoundError\u001b[0m                         Traceback (most recent call last)",
      "Cell \u001b[1;32mIn[30], line 1\u001b[0m\n\u001b[1;32m----> 1\u001b[0m \u001b[38;5;28;01mwith\u001b[39;00m \u001b[38;5;28mopen\u001b[39m(\u001b[38;5;124m\"\u001b[39m\u001b[38;5;124msource.txt\u001b[39m\u001b[38;5;124m\"\u001b[39m, \u001b[38;5;124m\"\u001b[39m\u001b[38;5;124mr\u001b[39m\u001b[38;5;124m\"\u001b[39m) \u001b[38;5;28;01mas\u001b[39;00m src, \u001b[38;5;28mopen\u001b[39m(\u001b[38;5;124m\"\u001b[39m\u001b[38;5;124mcopy.txt\u001b[39m\u001b[38;5;124m\"\u001b[39m, \u001b[38;5;124m\"\u001b[39m\u001b[38;5;124mw\u001b[39m\u001b[38;5;124m\"\u001b[39m) \u001b[38;5;28;01mas\u001b[39;00m dst:\n\u001b[0;32m      2\u001b[0m     dst\u001b[38;5;241m.\u001b[39mwrite(src\u001b[38;5;241m.\u001b[39mread())\n",
      "File \u001b[1;32m~\\anaconda3\\Lib\\site-packages\\IPython\\core\\interactiveshell.py:324\u001b[0m, in \u001b[0;36m_modified_open\u001b[1;34m(file, *args, **kwargs)\u001b[0m\n\u001b[0;32m    317\u001b[0m \u001b[38;5;28;01mif\u001b[39;00m file \u001b[38;5;129;01min\u001b[39;00m {\u001b[38;5;241m0\u001b[39m, \u001b[38;5;241m1\u001b[39m, \u001b[38;5;241m2\u001b[39m}:\n\u001b[0;32m    318\u001b[0m     \u001b[38;5;28;01mraise\u001b[39;00m \u001b[38;5;167;01mValueError\u001b[39;00m(\n\u001b[0;32m    319\u001b[0m         \u001b[38;5;124mf\u001b[39m\u001b[38;5;124m\"\u001b[39m\u001b[38;5;124mIPython won\u001b[39m\u001b[38;5;124m'\u001b[39m\u001b[38;5;124mt let you open fd=\u001b[39m\u001b[38;5;132;01m{\u001b[39;00mfile\u001b[38;5;132;01m}\u001b[39;00m\u001b[38;5;124m by default \u001b[39m\u001b[38;5;124m\"\u001b[39m\n\u001b[0;32m    320\u001b[0m         \u001b[38;5;124m\"\u001b[39m\u001b[38;5;124mas it is likely to crash IPython. If you know what you are doing, \u001b[39m\u001b[38;5;124m\"\u001b[39m\n\u001b[0;32m    321\u001b[0m         \u001b[38;5;124m\"\u001b[39m\u001b[38;5;124myou can use builtins\u001b[39m\u001b[38;5;124m'\u001b[39m\u001b[38;5;124m open.\u001b[39m\u001b[38;5;124m\"\u001b[39m\n\u001b[0;32m    322\u001b[0m     )\n\u001b[1;32m--> 324\u001b[0m \u001b[38;5;28;01mreturn\u001b[39;00m io_open(file, \u001b[38;5;241m*\u001b[39margs, \u001b[38;5;241m*\u001b[39m\u001b[38;5;241m*\u001b[39mkwargs)\n",
      "\u001b[1;31mFileNotFoundError\u001b[0m: [Errno 2] No such file or directory: 'source.txt'"
     ]
    }
   ],
   "source": [
    "with open(\"source.txt\", \"r\") as src, open(\"copy.txt\", \"w\") as dst:\n",
    "    dst.write(src.read())\n"
   ]
  },
  {
   "cell_type": "raw",
   "id": "42baa111-3332-41d4-a313-2f32fbbb9fef",
   "metadata": {},
   "source": [
    "Копирует содержимое файла."
   ]
  },
  {
   "cell_type": "markdown",
   "id": "fe3d5c69-457c-4f42-8d22-aee08b357b71",
   "metadata": {},
   "source": [
    "8. Удалить файл"
   ]
  },
  {
   "cell_type": "code",
   "execution_count": 33,
   "id": "6527a40d-7116-4831-b5e4-7a79436f89f7",
   "metadata": {},
   "outputs": [],
   "source": [
    "import os\n",
    "\n",
    "file = \"delete.txt\"\n",
    "\n",
    "if os.path.exists(file):\n",
    "    os.remove(file)\n"
   ]
  },
  {
   "cell_type": "raw",
   "id": "c6e78934-00f1-4d1d-ac88-0ec69e4773a3",
   "metadata": {},
   "source": [
    "Удаляет файл, если он существует"
   ]
  },
  {
   "cell_type": "markdown",
   "id": "2ce65b83-1204-42f2-8c60-1283e448f7af",
   "metadata": {},
   "source": [
    "Часть 2: Встроенные функции Python"
   ]
  },
  {
   "cell_type": "markdown",
   "id": "83c25c0d-d225-4624-8bb6-c9db585866e1",
   "metadata": {},
   "source": [
    "1. Перемножить числа в списке"
   ]
  },
  {
   "cell_type": "code",
   "execution_count": 37,
   "id": "f7add58f-0a5e-4fed-b378-d55a6528c17c",
   "metadata": {},
   "outputs": [
    {
     "name": "stdout",
     "output_type": "stream",
     "text": [
      "24\n"
     ]
    }
   ],
   "source": [
    "import math\n",
    "\n",
    "nums = [2, 3, 4]\n",
    "print(math.prod(nums))\n"
   ]
  },
  {
   "cell_type": "raw",
   "id": "293f97ea-9dc8-4d3a-8bac-bdc1ffd48564",
   "metadata": {},
   "source": [
    "Перемножает числа в списке."
   ]
  },
  {
   "cell_type": "markdown",
   "id": "fc91a686-8416-4b8e-a012-e7ec3b9fa776",
   "metadata": {},
   "source": [
    "2. Подсчитать заглавные и строчные буквы"
   ]
  },
  {
   "cell_type": "code",
   "execution_count": 40,
   "id": "73cadbc1-0de3-493d-b9ab-9f0694a3cbb3",
   "metadata": {},
   "outputs": [
    {
     "name": "stdout",
     "output_type": "stream",
     "text": [
      "1\n",
      "4\n"
     ]
    }
   ],
   "source": [
    "text = \"Hello\"\n",
    "\n",
    "print(sum(c.isupper() for c in text))\n",
    "print(sum(c.islower() for c in text))\n"
   ]
  },
  {
   "cell_type": "raw",
   "id": "087ed2f6-1853-4e2c-bb72-3a7c813f220b",
   "metadata": {},
   "source": [
    "Считает количество заглавных и строчных букв."
   ]
  },
  {
   "cell_type": "markdown",
   "id": "dce22c65-db9c-4feb-b2f0-097eb3e95874",
   "metadata": {},
   "source": [
    "3. Проверить, является ли строка палиндромом"
   ]
  },
  {
   "cell_type": "code",
   "execution_count": 44,
   "id": "548e1934-ad96-4dcc-a9e9-d1c2a43fce5d",
   "metadata": {},
   "outputs": [
    {
     "name": "stdout",
     "output_type": "stream",
     "text": [
      "True\n"
     ]
    }
   ],
   "source": [
    "text = \"radar\"\n",
    "\n",
    "print(text == text[::-1])\n"
   ]
  },
  {
   "cell_type": "raw",
   "id": "50e7b403-3d24-4c8a-ad2f-123ab2b0020a",
   "metadata": {},
   "source": [
    "Проверяет, одинаково ли читается строка в обе стороны."
   ]
  },
  {
   "cell_type": "markdown",
   "id": "c52890ed-7598-4594-9ef1-10f5e03ecda0",
   "metadata": {},
   "source": [
    "4. Вычислить квадратный корень после задержки"
   ]
  },
  {
   "cell_type": "code",
   "execution_count": 47,
   "id": "70efd1d5-18e4-4616-9f8f-4a0229e2d05b",
   "metadata": {},
   "outputs": [
    {
     "name": "stdout",
     "output_type": "stream",
     "text": [
      "158.42979517754858\n"
     ]
    }
   ],
   "source": [
    "import time, math\n",
    "\n",
    "time.sleep(2)\n",
    "print(math.sqrt(25100))\n"
   ]
  },
  {
   "cell_type": "code",
   "execution_count": null,
   "id": "d35531de-303e-4420-9270-a8e6ccfbf3b7",
   "metadata": {},
   "outputs": [],
   "source": []
  }
 ],
 "metadata": {
  "kernelspec": {
   "display_name": "Python [conda env:base] *",
   "language": "python",
   "name": "conda-base-py"
  },
  "language_info": {
   "codemirror_mode": {
    "name": "ipython",
    "version": 3
   },
   "file_extension": ".py",
   "mimetype": "text/x-python",
   "name": "python",
   "nbconvert_exporter": "python",
   "pygments_lexer": "ipython3",
   "version": "3.12.7"
  }
 },
 "nbformat": 4,
 "nbformat_minor": 5
}
